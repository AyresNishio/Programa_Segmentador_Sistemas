{
 "cells": [
  {
   "cell_type": "code",
   "execution_count": null,
   "metadata": {},
   "outputs": [],
   "source": [
    "from power_system.Bus_System import Bus_system\n",
    "import numpy as np\n",
    "from f_Graph import*\n",
    "from f_observability import*"
   ]
  },
  {
   "cell_type": "code",
   "execution_count": null,
   "metadata": {},
   "outputs": [],
   "source": [
    "#Carrega sistema do IEEE\n",
    "bus_sys = Bus_system(118)\n",
    "meas_plan_file = 'meas_plan.txt'\n",
    "meas_plan = np.loadtxt(meas_plan_file,dtype=np.int32)\n",
    "Graph = build_measurement_dist_graph(bus_sys,meas_plan)\n",
    "show_measurement_dist_graph(Graph,Graph.coordinates)"
   ]
  },
  {
   "cell_type": "code",
   "execution_count": null,
   "metadata": {},
   "outputs": [],
   "source": [
    "#Forma lista de grupos\n",
    "groups = []\n",
    "groups.append(np.loadtxt('Grupo1.txt',dtype=int))\n",
    "groups.append(np.loadtxt('Grupo2.txt',dtype=int))\n",
    "groups.append(np.loadtxt('Grupo3.txt',dtype=int))\n",
    "set_groups(Graph,groups)\n",
    "#show_groups(Graph,Graph.coordinates)"
   ]
  },
  {
   "cell_type": "code",
   "execution_count": null,
   "metadata": {},
   "outputs": [],
   "source": [
    "show_groups(Graph,Graph.coordinates)\n",
    "\n",
    "Copy_Graph = regroup_outliners(Graph)\n",
    "\n",
    "show_groups(Copy_Graph,Graph.coordinates)"
   ]
  },
  {
   "cell_type": "code",
   "execution_count": null,
   "metadata": {},
   "outputs": [],
   "source": [
    "def get_groups(G):\n",
    "    groups = set(nx.get_node_attributes(Graph,'group').values())\n",
    "    n_groups = len(groups)\n",
    "    list_of_groups =  [[] for _ in range(n_groups)]\n",
    "    for no in G.nodes:\n",
    "        group = G.nodes[no]['group']  \n",
    "        list_of_groups[group-1].append(int(no))\n",
    "\n",
    "    return list_of_groups"
   ]
  },
  {
   "cell_type": "code",
   "execution_count": null,
   "metadata": {},
   "outputs": [],
   "source": [
    "def save_groups(groups):\n",
    "    n_groups = len(groups)\n",
    "    for i in range(n_groups):\n",
    "        nome_arquivo = f'Grupo{i+1}_Reorganizado.txt'\n",
    "        textfile = open(nome_arquivo, \"w\")\n",
    "        for elemento in groups[i]:  \n",
    "            textfile.write(f'{elemento}\\n')\n",
    "        textfile.close()"
   ]
  },
  {
   "cell_type": "code",
   "execution_count": null,
   "metadata": {},
   "outputs": [],
   "source": [
    "def build_sub_meas_plan(meas_plan,grupo):\n",
    "    sub_meas_plan =  []\n",
    "    print(meas_plan)\n",
    "    for medida in meas_plan:\n",
    "        if medida[1] in grupo or medida[2] in grupo:\n",
    "            sub_meas_plan.append(medida)\n",
    "    return sub_meas_plan"
   ]
  },
  {
   "cell_type": "code",
   "execution_count": null,
   "metadata": {},
   "outputs": [],
   "source": [
    "def monta_Sub_Covax ( med, E):\n",
    "\n",
    "    # Constroi Matrizes E dos subsistemas\n",
    "    #array =  np.arange(len(med)*len(med)).reshape(len(med),len(med))\n",
    "    Eg = np.zeros((len(med),len(med)),np.float64)\n",
    "    lin = 0\n",
    "    for medi in med:\n",
    "        col = 0\n",
    "        for medj in med :\n",
    "            de   = medi[0]-1 \n",
    "            para = medj[0]-1\n",
    "            Eg[lin,col] =  E[de,para]\n",
    "            col = col + 1\n",
    "        lin = lin + 1\n",
    "    \n",
    "    return Eg;"
   ]
  },
  {
   "cell_type": "code",
   "execution_count": null,
   "metadata": {},
   "outputs": [],
   "source": [
    "def save_splited_meas_plan_n_covrariance(meas_plan,E,groups):\n",
    "    for i in range(len(groups)):\n",
    "        \n",
    "        sub_meas_plan = build_sub_meas_plan(meas_plan,groups[i])\n",
    "        n_meas= len(sub_meas_plan)\n",
    "        list_n_meas = [n_meas]\n",
    "\n",
    "        Eg = monta_Sub_Covax(sub_meas_plan,E)\n",
    "\n",
    "\n",
    "        nome_arquivo=f'medplan{i+1}_{n_meas}m.txt'\n",
    "        f=open(nome_arquivo,'a')\n",
    "        np.savetxt(f, list_n_meas,delimiter=' ',  fmt ='%i')\n",
    "        np.savetxt(f,sub_meas_plan, delimiter=' ', fmt='%i')\n",
    "        np.savetxt(f,Eg,delimiter=' ')\n",
    "        f.close()"
   ]
  },
  {
   "cell_type": "code",
   "execution_count": null,
   "metadata": {},
   "outputs": [],
   "source": [
    "def save_sub_covariance(E, meas_plan):\n",
    "    n_grupos = len(meas_plan)\n",
    "\n",
    "    for i in range(n_grupos):\n",
    "        n_med =  len(meas_plan[i])\n",
    "        Eg = monta_Sub_Covax(meas_plan[i],E)\n",
    "\n",
    "        \n",
    "        nome_arquivo=f'medplan{i+1}_{n_med}m.txt'\n",
    "        f = open(nome_arquivo,'a')\n",
    "        \n",
    "        np.savetxt(f,Eg,delimiter=' ')\n",
    "        f.close()"
   ]
  },
  {
   "cell_type": "code",
   "execution_count": null,
   "metadata": {},
   "outputs": [],
   "source": [
    "def save_case(Graph,meas_plan,A):\n",
    "    \n",
    "    groups = get_groups(Graph)\n",
    "    save_groups(groups)\n",
    "\n",
    "    \n",
    "\n",
    "    H=build_jacobian_matrix(A,meas_plan)\n",
    "    G=build_gain_matrix(H)\n",
    "    E=build_covariance_matrix(G,H)\n",
    "\n",
    "    save_splited_meas_plan_n_covrariance(meas_plan,E,groups)\n",
    "    "
   ]
  },
  {
   "cell_type": "code",
   "execution_count": null,
   "metadata": {},
   "outputs": [],
   "source": [
    "save_case(Graph,meas_plan,bus_sys.Ybus)"
   ]
  },
  {
   "cell_type": "code",
   "execution_count": null,
   "metadata": {},
   "outputs": [],
   "source": [
    "# Arruma diretórios\n",
    "caso= f'Caso3_prop'\n",
    "import os\n",
    "import shutil\n",
    "dir_origem = 'D:/Doutorado/SegmentaSis/Programa/Read_Segments'\n",
    "\n",
    "dir_destino = dir_origem + '/' +caso\n",
    "if not os.path.exists(dir_destino):\n",
    "    os.makedirs(dir_destino)\n",
    "arquivos_na_pasta = os.listdir(dir_origem)\n",
    "for arquivo in arquivos_na_pasta:\n",
    "    if arquivo.endswith('.txt') or arquivo.endswith('.png'):\n",
    "        shutil.move(os.path.join(dir_origem,arquivo), os.path.join(dir_destino,dir_destino))"
   ]
  }
 ],
 "metadata": {
  "kernelspec": {
   "display_name": "Python 3",
   "language": "python",
   "name": "python3"
  },
  "language_info": {
   "codemirror_mode": {
    "name": "ipython",
    "version": 3
   },
   "file_extension": ".py",
   "mimetype": "text/x-python",
   "name": "python",
   "nbconvert_exporter": "python",
   "pygments_lexer": "ipython3",
   "version": "3.9.13"
  },
  "orig_nbformat": 4,
  "vscode": {
   "interpreter": {
    "hash": "6c03531b4b3697884a919690ca2d14b8504105f80e859a9f5f029be47f9dca13"
   }
  }
 },
 "nbformat": 4,
 "nbformat_minor": 2
}
